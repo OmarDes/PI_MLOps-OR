{
 "cells": [
  {
   "cell_type": "code",
   "execution_count": 1,
   "metadata": {},
   "outputs": [],
   "source": [
    "from fastapi import FastAPI\n",
    "from mysql.connector import connect"
   ]
  },
  {
   "cell_type": "code",
   "execution_count": 2,
   "metadata": {},
   "outputs": [],
   "source": [
    "app = FastAPI()"
   ]
  },
  {
   "cell_type": "code",
   "execution_count": 4,
   "metadata": {},
   "outputs": [],
   "source": [
    "def get_db_conn():\n",
    "    conn = connect(\n",
    "        host = 'localhost',\n",
    "        user = 'root',\n",
    "        password = '',\n",
    "        database = 'mlops',\n",
    "    )   \n",
    "    return conn"
   ]
  },
  {
   "cell_type": "code",
   "execution_count": 12,
   "metadata": {},
   "outputs": [],
   "source": [
    "@app.get(\"/series\")\n",
    "async def get_series():\n",
    "    conn = get_db_conn()\n",
    "    cursor = conn.cursor()\n",
    "    cursor.execute(\"SELECT * FROM netflix\")  # Reemplaza con la consulta que desees\n",
    "    series = cursor.fetchall()\n",
    "    conn.close()\n",
    "    print(series)\n",
    "    return series\n"
   ]
  },
  {
   "cell_type": "code",
   "execution_count": 14,
   "metadata": {},
   "outputs": [
    {
     "name": "stdout",
     "output_type": "stream",
     "text": [
      "<fastapi.applications.FastAPI object at 0x00000251147B2D40>\n"
     ]
    }
   ],
   "source": [
    "print(app)"
   ]
  }
 ],
 "metadata": {
  "kernelspec": {
   "display_name": "Python 3",
   "language": "python",
   "name": "python3"
  },
  "language_info": {
   "codemirror_mode": {
    "name": "ipython",
    "version": 3
   },
   "file_extension": ".py",
   "mimetype": "text/x-python",
   "name": "python",
   "nbconvert_exporter": "python",
   "pygments_lexer": "ipython3",
   "version": "3.10.6"
  },
  "orig_nbformat": 4
 },
 "nbformat": 4,
 "nbformat_minor": 2
}
