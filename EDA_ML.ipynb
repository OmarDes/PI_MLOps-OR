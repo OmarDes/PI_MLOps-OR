{
 "cells": [
  {
   "cell_type": "code",
   "execution_count": 5,
   "metadata": {},
   "outputs": [
    {
     "name": "stdout",
     "output_type": "stream",
     "text": [
      "TV Movie 767\n",
      "Western 1042\n",
      "War 1323\n",
      "History 1398\n",
      "Music 1598\n",
      "Foreign 1622\n",
      "Animation 1935\n",
      "Fantasy 2313\n",
      "Mystery 2467\n",
      "Family 2770\n",
      "Science Fiction 3049\n",
      "Adventure 3496\n",
      "Documentary 3932\n",
      "Crime 4307\n",
      "Horror 4673\n",
      "Action 6596\n",
      "Romance 6735\n",
      "Thriller 7624\n",
      "Comedy 13182\n",
      "Drama 20265\n"
     ]
    }
   ],
   "source": [
    "import pandas as pd\n",
    "\n",
    "# Read the CSV file\n",
    "df = pd.read_csv('movies_dataset.csv')\n",
    "\n",
    "# Extract the 'genres' column\n",
    "genres_column = df['genres']\n",
    "\n",
    "# Create an empty dictionary to store the count of each genre\n",
    "genre_counts = {}\n",
    "\n",
    "# Iterate over each row in the 'genres' column\n",
    "for genres_list in genres_column:\n",
    "    # Convert the string representation of the genres list to a list of dictionaries\n",
    "    genres = eval(genres_list)\n",
    "    \n",
    "    # Iterate over each genre dictionary\n",
    "    for genre in genres:\n",
    "        # Extract the 'name' field and increment the count in the genre_counts dictionary\n",
    "        genre_name = genre['name']\n",
    "        genre_counts[genre_name] = genre_counts.get(genre_name, 0) + 1\n",
    "\n",
    "# Sort the genre counts in ascending order of count\n",
    "sorted_genre_counts = sorted(genre_counts.items(), key=lambda x: x[1])\n",
    "\n",
    "# Print the count of each genre\n",
    "for genre, count in sorted_genre_counts:\n",
    "    print(genre, count)\n"
   ]
  }
 ],
 "metadata": {
  "kernelspec": {
   "display_name": "Python 3",
   "language": "python",
   "name": "python3"
  },
  "language_info": {
   "codemirror_mode": {
    "name": "ipython",
    "version": 3
   },
   "file_extension": ".py",
   "mimetype": "text/x-python",
   "name": "python",
   "nbconvert_exporter": "python",
   "pygments_lexer": "ipython3",
   "version": "3.10.6"
  },
  "orig_nbformat": 4
 },
 "nbformat": 4,
 "nbformat_minor": 2
}
