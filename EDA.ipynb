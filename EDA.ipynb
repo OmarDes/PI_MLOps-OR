{
 "cells": [
  {
   "attachments": {},
   "cell_type": "markdown",
   "metadata": {},
   "source": [
    "EDA inicial"
   ]
  },
  {
   "cell_type": "code",
   "execution_count": 1,
   "metadata": {},
   "outputs": [],
   "source": [
    "import pandas as pd\n",
    "import json"
   ]
  },
  {
   "cell_type": "code",
   "execution_count": 2,
   "metadata": {},
   "outputs": [
    {
     "name": "stderr",
     "output_type": "stream",
     "text": [
      "C:\\Users\\Omar\\AppData\\Local\\Temp\\ipykernel_2328\\838507129.py:1: DtypeWarning: Columns (10) have mixed types. Specify dtype option on import or set low_memory=False.\n",
      "  movies_df =pd.read_csv('movies_dataset.csv')\n"
     ]
    }
   ],
   "source": [
    "movies_df =pd.read_csv('movies_dataset.csv') #Lectura dataset"
   ]
  },
  {
   "cell_type": "code",
   "execution_count": 3,
   "metadata": {},
   "outputs": [
    {
     "name": "stdout",
     "output_type": "stream",
     "text": [
      "<class 'pandas.core.frame.DataFrame'>\n",
      "RangeIndex: 45466 entries, 0 to 45465\n",
      "Data columns (total 24 columns):\n",
      " #   Column                 Non-Null Count  Dtype  \n",
      "---  ------                 --------------  -----  \n",
      " 0   adult                  45466 non-null  object \n",
      " 1   belongs_to_collection  4494 non-null   object \n",
      " 2   budget                 45466 non-null  object \n",
      " 3   genres                 45466 non-null  object \n",
      " 4   homepage               7782 non-null   object \n",
      " 5   id                     45466 non-null  object \n",
      " 6   imdb_id                45449 non-null  object \n",
      " 7   original_language      45455 non-null  object \n",
      " 8   original_title         45466 non-null  object \n",
      " 9   overview               44512 non-null  object \n",
      " 10  popularity             45461 non-null  object \n",
      " 11  poster_path            45080 non-null  object \n",
      " 12  production_companies   45463 non-null  object \n",
      " 13  production_countries   45463 non-null  object \n",
      " 14  release_date           45379 non-null  object \n",
      " 15  revenue                45460 non-null  float64\n",
      " 16  runtime                45203 non-null  float64\n",
      " 17  spoken_languages       45460 non-null  object \n",
      " 18  status                 45379 non-null  object \n",
      " 19  tagline                20412 non-null  object \n",
      " 20  title                  45460 non-null  object \n",
      " 21  video                  45460 non-null  object \n",
      " 22  vote_average           45460 non-null  float64\n",
      " 23  vote_count             45460 non-null  float64\n",
      "dtypes: float64(4), object(20)\n",
      "memory usage: 8.3+ MB\n"
     ]
    },
    {
     "data": {
      "text/html": [
       "<div>\n",
       "<style scoped>\n",
       "    .dataframe tbody tr th:only-of-type {\n",
       "        vertical-align: middle;\n",
       "    }\n",
       "\n",
       "    .dataframe tbody tr th {\n",
       "        vertical-align: top;\n",
       "    }\n",
       "\n",
       "    .dataframe thead th {\n",
       "        text-align: right;\n",
       "    }\n",
       "</style>\n",
       "<table border=\"1\" class=\"dataframe\">\n",
       "  <thead>\n",
       "    <tr style=\"text-align: right;\">\n",
       "      <th></th>\n",
       "      <th>adult</th>\n",
       "      <th>belongs_to_collection</th>\n",
       "      <th>budget</th>\n",
       "      <th>genres</th>\n",
       "      <th>homepage</th>\n",
       "      <th>id</th>\n",
       "      <th>imdb_id</th>\n",
       "      <th>original_language</th>\n",
       "      <th>original_title</th>\n",
       "      <th>overview</th>\n",
       "      <th>...</th>\n",
       "      <th>release_date</th>\n",
       "      <th>revenue</th>\n",
       "      <th>runtime</th>\n",
       "      <th>spoken_languages</th>\n",
       "      <th>status</th>\n",
       "      <th>tagline</th>\n",
       "      <th>title</th>\n",
       "      <th>video</th>\n",
       "      <th>vote_average</th>\n",
       "      <th>vote_count</th>\n",
       "    </tr>\n",
       "  </thead>\n",
       "  <tbody>\n",
       "    <tr>\n",
       "      <th>0</th>\n",
       "      <td>False</td>\n",
       "      <td>{'id': 10194, 'name': 'Toy Story Collection', ...</td>\n",
       "      <td>30000000</td>\n",
       "      <td>[{'id': 16, 'name': 'Animation'}, {'id': 35, '...</td>\n",
       "      <td>http://toystory.disney.com/toy-story</td>\n",
       "      <td>862</td>\n",
       "      <td>tt0114709</td>\n",
       "      <td>en</td>\n",
       "      <td>Toy Story</td>\n",
       "      <td>Led by Woody, Andy's toys live happily in his ...</td>\n",
       "      <td>...</td>\n",
       "      <td>1995-10-30</td>\n",
       "      <td>373554033.0</td>\n",
       "      <td>81.0</td>\n",
       "      <td>[{'iso_639_1': 'en', 'name': 'English'}]</td>\n",
       "      <td>Released</td>\n",
       "      <td>NaN</td>\n",
       "      <td>Toy Story</td>\n",
       "      <td>False</td>\n",
       "      <td>7.7</td>\n",
       "      <td>5415.0</td>\n",
       "    </tr>\n",
       "    <tr>\n",
       "      <th>1</th>\n",
       "      <td>False</td>\n",
       "      <td>NaN</td>\n",
       "      <td>65000000</td>\n",
       "      <td>[{'id': 12, 'name': 'Adventure'}, {'id': 14, '...</td>\n",
       "      <td>NaN</td>\n",
       "      <td>8844</td>\n",
       "      <td>tt0113497</td>\n",
       "      <td>en</td>\n",
       "      <td>Jumanji</td>\n",
       "      <td>When siblings Judy and Peter discover an encha...</td>\n",
       "      <td>...</td>\n",
       "      <td>1995-12-15</td>\n",
       "      <td>262797249.0</td>\n",
       "      <td>104.0</td>\n",
       "      <td>[{'iso_639_1': 'en', 'name': 'English'}, {'iso...</td>\n",
       "      <td>Released</td>\n",
       "      <td>Roll the dice and unleash the excitement!</td>\n",
       "      <td>Jumanji</td>\n",
       "      <td>False</td>\n",
       "      <td>6.9</td>\n",
       "      <td>2413.0</td>\n",
       "    </tr>\n",
       "    <tr>\n",
       "      <th>2</th>\n",
       "      <td>False</td>\n",
       "      <td>{'id': 119050, 'name': 'Grumpy Old Men Collect...</td>\n",
       "      <td>0</td>\n",
       "      <td>[{'id': 10749, 'name': 'Romance'}, {'id': 35, ...</td>\n",
       "      <td>NaN</td>\n",
       "      <td>15602</td>\n",
       "      <td>tt0113228</td>\n",
       "      <td>en</td>\n",
       "      <td>Grumpier Old Men</td>\n",
       "      <td>A family wedding reignites the ancient feud be...</td>\n",
       "      <td>...</td>\n",
       "      <td>1995-12-22</td>\n",
       "      <td>0.0</td>\n",
       "      <td>101.0</td>\n",
       "      <td>[{'iso_639_1': 'en', 'name': 'English'}]</td>\n",
       "      <td>Released</td>\n",
       "      <td>Still Yelling. Still Fighting. Still Ready for...</td>\n",
       "      <td>Grumpier Old Men</td>\n",
       "      <td>False</td>\n",
       "      <td>6.5</td>\n",
       "      <td>92.0</td>\n",
       "    </tr>\n",
       "    <tr>\n",
       "      <th>3</th>\n",
       "      <td>False</td>\n",
       "      <td>NaN</td>\n",
       "      <td>16000000</td>\n",
       "      <td>[{'id': 35, 'name': 'Comedy'}, {'id': 18, 'nam...</td>\n",
       "      <td>NaN</td>\n",
       "      <td>31357</td>\n",
       "      <td>tt0114885</td>\n",
       "      <td>en</td>\n",
       "      <td>Waiting to Exhale</td>\n",
       "      <td>Cheated on, mistreated and stepped on, the wom...</td>\n",
       "      <td>...</td>\n",
       "      <td>1995-12-22</td>\n",
       "      <td>81452156.0</td>\n",
       "      <td>127.0</td>\n",
       "      <td>[{'iso_639_1': 'en', 'name': 'English'}]</td>\n",
       "      <td>Released</td>\n",
       "      <td>Friends are the people who let you be yourself...</td>\n",
       "      <td>Waiting to Exhale</td>\n",
       "      <td>False</td>\n",
       "      <td>6.1</td>\n",
       "      <td>34.0</td>\n",
       "    </tr>\n",
       "  </tbody>\n",
       "</table>\n",
       "<p>4 rows × 24 columns</p>\n",
       "</div>"
      ],
      "text/plain": [
       "   adult                              belongs_to_collection    budget   \n",
       "0  False  {'id': 10194, 'name': 'Toy Story Collection', ...  30000000  \\\n",
       "1  False                                                NaN  65000000   \n",
       "2  False  {'id': 119050, 'name': 'Grumpy Old Men Collect...         0   \n",
       "3  False                                                NaN  16000000   \n",
       "\n",
       "                                              genres   \n",
       "0  [{'id': 16, 'name': 'Animation'}, {'id': 35, '...  \\\n",
       "1  [{'id': 12, 'name': 'Adventure'}, {'id': 14, '...   \n",
       "2  [{'id': 10749, 'name': 'Romance'}, {'id': 35, ...   \n",
       "3  [{'id': 35, 'name': 'Comedy'}, {'id': 18, 'nam...   \n",
       "\n",
       "                               homepage     id    imdb_id original_language   \n",
       "0  http://toystory.disney.com/toy-story    862  tt0114709                en  \\\n",
       "1                                   NaN   8844  tt0113497                en   \n",
       "2                                   NaN  15602  tt0113228                en   \n",
       "3                                   NaN  31357  tt0114885                en   \n",
       "\n",
       "      original_title                                           overview  ...   \n",
       "0          Toy Story  Led by Woody, Andy's toys live happily in his ...  ...  \\\n",
       "1            Jumanji  When siblings Judy and Peter discover an encha...  ...   \n",
       "2   Grumpier Old Men  A family wedding reignites the ancient feud be...  ...   \n",
       "3  Waiting to Exhale  Cheated on, mistreated and stepped on, the wom...  ...   \n",
       "\n",
       "  release_date      revenue runtime   \n",
       "0   1995-10-30  373554033.0    81.0  \\\n",
       "1   1995-12-15  262797249.0   104.0   \n",
       "2   1995-12-22          0.0   101.0   \n",
       "3   1995-12-22   81452156.0   127.0   \n",
       "\n",
       "                                    spoken_languages    status   \n",
       "0           [{'iso_639_1': 'en', 'name': 'English'}]  Released  \\\n",
       "1  [{'iso_639_1': 'en', 'name': 'English'}, {'iso...  Released   \n",
       "2           [{'iso_639_1': 'en', 'name': 'English'}]  Released   \n",
       "3           [{'iso_639_1': 'en', 'name': 'English'}]  Released   \n",
       "\n",
       "                                             tagline              title   \n",
       "0                                                NaN          Toy Story  \\\n",
       "1          Roll the dice and unleash the excitement!            Jumanji   \n",
       "2  Still Yelling. Still Fighting. Still Ready for...   Grumpier Old Men   \n",
       "3  Friends are the people who let you be yourself...  Waiting to Exhale   \n",
       "\n",
       "   video vote_average vote_count  \n",
       "0  False          7.7     5415.0  \n",
       "1  False          6.9     2413.0  \n",
       "2  False          6.5       92.0  \n",
       "3  False          6.1       34.0  \n",
       "\n",
       "[4 rows x 24 columns]"
      ]
     },
     "execution_count": 3,
     "metadata": {},
     "output_type": "execute_result"
    }
   ],
   "source": [
    "movies_df.info() #Cabecera dataset\n",
    "movies_df.head(4)"
   ]
  },
  {
   "cell_type": "code",
   "execution_count": 4,
   "metadata": {},
   "outputs": [
    {
     "data": {
      "text/plain": [
       "adult                                                                False\n",
       "belongs_to_collection                                                  NaN\n",
       "budget                                                                   0\n",
       "genres                                                                  []\n",
       "homepage                                                               NaN\n",
       "id                                                                  365371\n",
       "imdb_id                                                          tt0114894\n",
       "original_language                                                       en\n",
       "original_title                        War Stories Our Mother Never Told Us\n",
       "overview                 Seven New Zealand women speak about their live...\n",
       "popularity                                                        0.005625\n",
       "poster_path                                                            NaN\n",
       "production_companies                                                    []\n",
       "production_countries                                                    []\n",
       "release_date                                                           NaN\n",
       "revenue                                                                0.0\n",
       "runtime                                                               95.0\n",
       "spoken_languages                                                        []\n",
       "status                                                            Released\n",
       "tagline                                                                NaN\n",
       "title                                 War Stories Our Mother Never Told Us\n",
       "video                                                                False\n",
       "vote_average                                                           0.0\n",
       "vote_count                                                             0.0\n",
       "Name: 711, dtype: object"
      ]
     },
     "execution_count": 4,
     "metadata": {},
     "output_type": "execute_result"
    }
   ],
   "source": [
    "movies_df.iloc[711]"
   ]
  },
  {
   "cell_type": "code",
   "execution_count": 5,
   "metadata": {},
   "outputs": [
    {
     "data": {
      "text/plain": [
       "adult                                                                False\n",
       "belongs_to_collection                                                  NaN\n",
       "budget                                                                   0\n",
       "genres                   [{'id': 28, 'name': 'Action'}, {'id': 53, 'nam...\n",
       "homepage                                                               NaN\n",
       "id                                                                   82663\n",
       "imdb_id                                                          tt0113002\n",
       "original_language                                                       en\n",
       "original_title                                                Midnight Man\n",
       "overview                 British soldiers force a recently captured IRA...\n",
       "popularity                                                             NaN\n",
       "poster_path                                                            NaN\n",
       "production_companies                                                   NaN\n",
       "production_countries                                                   NaN\n",
       "release_date                                                           NaN\n",
       "revenue                                                                NaN\n",
       "runtime                                                                NaN\n",
       "spoken_languages                                                       NaN\n",
       "status                                                                 NaN\n",
       "tagline                                                                NaN\n",
       "title                                                                  NaN\n",
       "video                                                                  NaN\n",
       "vote_average                                                           NaN\n",
       "vote_count                                                             NaN\n",
       "Name: 19729, dtype: object"
      ]
     },
     "execution_count": 5,
     "metadata": {},
     "output_type": "execute_result"
    }
   ],
   "source": [
    "movies_df.iloc[19729] # la carga del data set a MySQL Workbench no acpta algunas filas, se complementan o eliminan aca"
   ]
  },
  {
   "cell_type": "code",
   "execution_count": 6,
   "metadata": {},
   "outputs": [],
   "source": [
    "movies_df.at[19729, 'popularity'] = '0'   # llenado de campos\n",
    "movies_df.at[19729, 'poster_path'] = 'A'\n",
    "movies_df.at[19729, 'production_companies'] = '[]'\n",
    "movies_df.at[19729, 'production_countries'] = '[]'\n",
    "movies_df.at[19729, 'release_date'] = '0'\n",
    "movies_df.at[19729, 'revenue'] = '0'\n",
    "movies_df.at[19729, 'runtime'] = '0'\n",
    "movies_df.at[19729, 'spoken_languages'] = ''\n",
    "movies_df.at[19729, 'status'] = '0'\n",
    "movies_df.at[19729, 'tagline'] = 'a'\n",
    "movies_df.at[19729, 'title'] = 'a'\n",
    "movies_df.at[19729, 'video'] = '0'\n",
    "movies_df.at[19729, 'vote_average'] = '0'\n",
    "movies_df.at[19729, 'vote_count'] = '0'"
   ]
  },
  {
   "cell_type": "code",
   "execution_count": 7,
   "metadata": {},
   "outputs": [
    {
     "data": {
      "text/plain": [
       "adult                                                   - Written by Ørnås\n",
       "belongs_to_collection                                             0.065736\n",
       "budget                                    /ff9qCepilowshEtG2GYWwzt2bs4.jpg\n",
       "genres                   [{'name': 'Carousel Productions', 'id': 11176}...\n",
       "homepage                 [{'iso_3166_1': 'CA', 'name': 'Canada'}, {'iso...\n",
       "id                                                              1997-08-20\n",
       "imdb_id                                                                  0\n",
       "original_language                                                    104.0\n",
       "original_title                    [{'iso_639_1': 'en', 'name': 'English'}]\n",
       "overview                                                          Released\n",
       "popularity                                                             NaN\n",
       "poster_path                                                   Midnight Man\n",
       "production_companies                                                 False\n",
       "production_countries                                                   6.0\n",
       "release_date                                                             1\n",
       "revenue                                                                NaN\n",
       "runtime                                                                NaN\n",
       "spoken_languages                                                       NaN\n",
       "status                                                                 NaN\n",
       "tagline                                                                NaN\n",
       "title                                                                  NaN\n",
       "video                                                                  NaN\n",
       "vote_average                                                           NaN\n",
       "vote_count                                                             NaN\n",
       "Name: 19730, dtype: object"
      ]
     },
     "execution_count": 7,
     "metadata": {},
     "output_type": "execute_result"
    }
   ],
   "source": [
    "movies_df.iloc[19730]    # fila con datos errados, se elimina"
   ]
  },
  {
   "cell_type": "code",
   "execution_count": 8,
   "metadata": {},
   "outputs": [],
   "source": [
    "movies_df = movies_df.drop(labels=19730, axis=0) # fila con datos errados, se elimina"
   ]
  },
  {
   "cell_type": "code",
   "execution_count": 9,
   "metadata": {},
   "outputs": [],
   "source": [
    "movies_df.to_csv('movies_dataset.csv', index=False) # se guarda archivo"
   ]
  },
  {
   "cell_type": "code",
   "execution_count": 10,
   "metadata": {},
   "outputs": [
    {
     "name": "stderr",
     "output_type": "stream",
     "text": [
      "C:\\Users\\Omar\\AppData\\Local\\Temp\\ipykernel_2328\\838507129.py:1: DtypeWarning: Columns (10) have mixed types. Specify dtype option on import or set low_memory=False.\n",
      "  movies_df =pd.read_csv('movies_dataset.csv')\n"
     ]
    }
   ],
   "source": [
    "movies_df =pd.read_csv('movies_dataset.csv') # se vuelve a cargar"
   ]
  },
  {
   "cell_type": "code",
   "execution_count": 11,
   "metadata": {},
   "outputs": [
    {
     "data": {
      "text/plain": [
       "adult                     Rune Balot goes to a casino connected to the ...\n",
       "belongs_to_collection                                             1.931659\n",
       "budget                                    /zV8bHuSL6WXoD6FWogP9j4x80bL.jpg\n",
       "genres                   [{'name': 'Aniplex', 'id': 2883}, {'name': 'Go...\n",
       "homepage                 [{'iso_3166_1': 'US', 'name': 'United States o...\n",
       "id                                                              2012-09-29\n",
       "imdb_id                                                                  0\n",
       "original_language                                                     68.0\n",
       "original_title                        [{'iso_639_1': 'ja', 'name': '日本語'}]\n",
       "overview                                                          Released\n",
       "popularity                                                             NaN\n",
       "poster_path                            Mardock Scramble: The Third Exhaust\n",
       "production_companies                                                 False\n",
       "production_countries                                                   7.0\n",
       "release_date                                                            12\n",
       "revenue                                                                NaN\n",
       "runtime                                                                NaN\n",
       "spoken_languages                                                       NaN\n",
       "status                                                                 NaN\n",
       "tagline                                                                NaN\n",
       "title                                                                  NaN\n",
       "video                                                                  NaN\n",
       "vote_average                                                           NaN\n",
       "vote_count                                                             NaN\n",
       "Name: 29502, dtype: object"
      ]
     },
     "execution_count": 11,
     "metadata": {},
     "output_type": "execute_result"
    }
   ],
   "source": [
    "movies_df.iloc[29502]  # otra fila para eliminar"
   ]
  },
  {
   "cell_type": "code",
   "execution_count": 12,
   "metadata": {},
   "outputs": [],
   "source": [
    "movies_df = movies_df.drop(labels=29502, axis=0) #se eliminna"
   ]
  },
  {
   "cell_type": "code",
   "execution_count": 13,
   "metadata": {},
   "outputs": [],
   "source": [
    "movies_df.to_csv('movies_dataset.csv', index=False) #se guarda archivo"
   ]
  },
  {
   "cell_type": "code",
   "execution_count": 14,
   "metadata": {},
   "outputs": [
    {
     "name": "stderr",
     "output_type": "stream",
     "text": [
      "C:\\Users\\Omar\\AppData\\Local\\Temp\\ipykernel_2328\\838507129.py:1: DtypeWarning: Columns (0,2,5,10) have mixed types. Specify dtype option on import or set low_memory=False.\n",
      "  movies_df =pd.read_csv('movies_dataset.csv')\n"
     ]
    }
   ],
   "source": [
    "movies_df =pd.read_csv('movies_dataset.csv') #se lee arhivo"
   ]
  },
  {
   "cell_type": "code",
   "execution_count": 15,
   "metadata": {},
   "outputs": [
    {
     "data": {
      "text/plain": [
       "adult                                                                False\n",
       "belongs_to_collection    {'id': 122661, 'name': 'Mardock Scramble Colle...\n",
       "budget                                                                   0\n",
       "genres                   [{'id': 16, 'name': 'Animation'}, {'id': 878, ...\n",
       "homepage                                     http://m-scramble.jp/exhaust/\n",
       "id                                                                  122662\n",
       "imdb_id                                                          tt2423504\n",
       "original_language                                                       ja\n",
       "original_title                                            マルドゥック・スクランブル 排気\n",
       "overview                        Third film of the Mardock Scramble series.\n",
       "popularity                                                             NaN\n",
       "poster_path                                                            NaN\n",
       "production_companies                                                   NaN\n",
       "production_countries                                                   NaN\n",
       "release_date                                                           NaN\n",
       "revenue                                                                NaN\n",
       "runtime                                                                NaN\n",
       "spoken_languages                                                       NaN\n",
       "status                                                                 NaN\n",
       "tagline                                                                NaN\n",
       "title                                                                  NaN\n",
       "video                                                                  NaN\n",
       "vote_average                                                           NaN\n",
       "vote_count                                                             NaN\n",
       "Name: 29501, dtype: object"
      ]
     },
     "execution_count": 15,
     "metadata": {},
     "output_type": "execute_result"
    }
   ],
   "source": [
    "movies_df.iloc[29501] # fila con campos vacios"
   ]
  },
  {
   "cell_type": "code",
   "execution_count": 16,
   "metadata": {},
   "outputs": [],
   "source": [
    "movies_df.at[29501, 'popularity'] = '0'\n",
    "movies_df.at[29501, 'poster_path'] = 'A'\n",
    "movies_df.at[29501, 'production_companies'] = '[]'\n",
    "movies_df.at[29501, 'production_countries'] = '[]'\n",
    "movies_df.at[29501, 'release_date'] = '0'\n",
    "movies_df.at[29501, 'revenue'] = '0'\n",
    "movies_df.at[29501, 'runtime'] = '0'\n",
    "movies_df.at[29501, 'spoken_languages'] = ''\n",
    "movies_df.at[29501, 'status'] = '0'\n",
    "movies_df.at[29501, 'tagline'] = ''\n",
    "movies_df.at[29501, 'title'] = ''\n",
    "movies_df.at[29501, 'video'] = '0'\n",
    "movies_df.at[29501, 'vote_average'] = '0'\n",
    "movies_df.at[29501, 'vote_count'] = '0'"
   ]
  },
  {
   "cell_type": "code",
   "execution_count": 17,
   "metadata": {},
   "outputs": [
    {
     "data": {
      "text/plain": [
       "adult                                                                False\n",
       "belongs_to_collection                                                  NaN\n",
       "budget                                                                   0\n",
       "genres                   [{'id': 10770, 'name': 'TV Movie'}, {'id': 28,...\n",
       "homepage                                                               NaN\n",
       "id                                                                  249260\n",
       "imdb_id                                                          tt2622826\n",
       "original_language                                                       en\n",
       "original_title                                            Avalanche Sharks\n",
       "overview                 A group of skiers are terrorized during spring...\n",
       "popularity                                                             NaN\n",
       "poster_path                                                            NaN\n",
       "production_companies                                                   NaN\n",
       "production_countries                                                   NaN\n",
       "release_date                                                           NaN\n",
       "revenue                                                                NaN\n",
       "runtime                                                                NaN\n",
       "spoken_languages                                                       NaN\n",
       "status                                                                 NaN\n",
       "tagline                                                                NaN\n",
       "title                                                                  NaN\n",
       "video                                                                  NaN\n",
       "vote_average                                                           NaN\n",
       "vote_count                                                             NaN\n",
       "Name: 35584, dtype: object"
      ]
     },
     "execution_count": 17,
     "metadata": {},
     "output_type": "execute_result"
    }
   ],
   "source": [
    "movies_df.iloc[35584] #fila con campos vacios"
   ]
  },
  {
   "cell_type": "code",
   "execution_count": 18,
   "metadata": {},
   "outputs": [],
   "source": [
    "movies_df.at[35584, 'popularity'] = '0'\n",
    "movies_df.at[35584, 'poster_path'] = 'A'\n",
    "movies_df.at[35584, 'production_companies'] = '[]'\n",
    "movies_df.at[35584, 'production_countries'] = '[]'\n",
    "movies_df.at[35584, 'release_date'] = '0'\n",
    "movies_df.at[35584, 'revenue'] = '0'\n",
    "movies_df.at[35584, 'runtime'] = '0'\n",
    "movies_df.at[35584, 'spoken_languages'] = ''\n",
    "movies_df.at[35584, 'status'] = '0'\n",
    "movies_df.at[35584, 'tagline'] = ''\n",
    "movies_df.at[35584, 'title'] = ''\n",
    "movies_df.at[35584, 'video'] = '0'\n",
    "movies_df.at[35584, 'vote_average'] = '0'\n",
    "movies_df.at[35584, 'vote_count'] = '0'"
   ]
  },
  {
   "cell_type": "code",
   "execution_count": 19,
   "metadata": {},
   "outputs": [
    {
     "data": {
      "text/plain": [
       "adult                     Avalanche Sharks tells the story of a bikini ...\n",
       "belongs_to_collection                                             2.185485\n",
       "budget                                    /zaSf5OG7V8X8gqFvly88zDdRm46.jpg\n",
       "genres                   [{'name': 'Odyssey Media', 'id': 17161}, {'nam...\n",
       "homepage                          [{'iso_3166_1': 'CA', 'name': 'Canada'}]\n",
       "id                                                              2014-01-01\n",
       "imdb_id                                                                  0\n",
       "original_language                                                     82.0\n",
       "original_title                    [{'iso_639_1': 'en', 'name': 'English'}]\n",
       "overview                                                          Released\n",
       "popularity                                           Beware Of Frost Bites\n",
       "poster_path                                               Avalanche Sharks\n",
       "production_companies                                                 False\n",
       "production_countries                                                   4.3\n",
       "release_date                                                            22\n",
       "revenue                                                                NaN\n",
       "runtime                                                                NaN\n",
       "spoken_languages                                                       NaN\n",
       "status                                                                 NaN\n",
       "tagline                                                                NaN\n",
       "title                                                                  NaN\n",
       "video                                                                  NaN\n",
       "vote_average                                                           NaN\n",
       "vote_count                                                             NaN\n",
       "Name: 35585, dtype: object"
      ]
     },
     "execution_count": 19,
     "metadata": {},
     "output_type": "execute_result"
    }
   ],
   "source": [
    "movies_df.iloc[35585]  # fila para eliminar"
   ]
  },
  {
   "cell_type": "code",
   "execution_count": 19,
   "metadata": {},
   "outputs": [],
   "source": [
    "movies_df = movies_df.drop(labels=35585, axis=0)"
   ]
  },
  {
   "cell_type": "code",
   "execution_count": 20,
   "metadata": {},
   "outputs": [],
   "source": [
    "movies_df.to_csv('movies_dataset.csv', index=False)"
   ]
  }
 ],
 "metadata": {
  "kernelspec": {
   "display_name": "Python 3",
   "language": "python",
   "name": "python3"
  },
  "language_info": {
   "codemirror_mode": {
    "name": "ipython",
    "version": 3
   },
   "file_extension": ".py",
   "mimetype": "text/x-python",
   "name": "python",
   "nbconvert_exporter": "python",
   "pygments_lexer": "ipython3",
   "version": "3.10.6"
  },
  "orig_nbformat": 4
 },
 "nbformat": 4,
 "nbformat_minor": 2
}
